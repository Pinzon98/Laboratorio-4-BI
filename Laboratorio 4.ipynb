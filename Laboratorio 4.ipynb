{
 "cells": [
  {
   "cell_type": "markdown",
   "id": "18fd8090",
   "metadata": {},
   "source": [
    "# Importacion de paquetes"
   ]
  },
  {
   "cell_type": "code",
   "execution_count": 1,
   "id": "8c6f8ba9",
   "metadata": {},
   "outputs": [],
   "source": [
    "#Importacion de paquetes para carga y procesamiento de datos\n",
    "import pandas as pd\n",
    "import joblib \n",
    "#Importacion de paquetes para modelamiento y pipeline\n",
    "from sklearn.preprocessing import OneHotEncoder, StandardScaler, FunctionTransformer\n",
    "from sklearn.impute import SimpleImputer\n",
    "from sklearn.compose import ColumnTransformer\n",
    "from sklearn.pipeline import Pipeline\n",
    "from sklearn.model_selection import train_test_split\n",
    "from sklearn.metrics import roc_auc_score, accuracy_score, confusion_matrix\n",
    "from sklearn.linear_model import LinearRegression\n",
    "from sklearn.metrics import mean_squared_error, mean_absolute_error, r2_score"
   ]
  },
  {
   "cell_type": "markdown",
   "id": "97780e26",
   "metadata": {},
   "source": [
    "# Lectura de archivos"
   ]
  },
  {
   "cell_type": "code",
   "execution_count": 2,
   "id": "674f5124",
   "metadata": {},
   "outputs": [],
   "source": [
    "# Lectura de los datos de la base de datos de la clinica\n",
    "data_set = pd.read_csv('./202210_Laboratorio3_data_DatosTrain.csv')"
   ]
  },
  {
   "cell_type": "markdown",
   "id": "3563e1e7",
   "metadata": {},
   "source": [
    "# Generacion de datos y arreglo de dataset"
   ]
  },
  {
   "cell_type": "code",
   "execution_count": 3,
   "id": "933723ec",
   "metadata": {},
   "outputs": [],
   "source": [
    "# Columnas que no son necesarias para el modelo\n",
    "column_drop = [\"Unnamed: 0\", \"percentage expenditure\", \"infant deaths\", \"under-five deaths\", \"Diphtheria\", \"thinness 5-9 years\", \"Schooling\"]"
   ]
  },
  {
   "cell_type": "code",
   "execution_count": 4,
   "id": "acaa46c4",
   "metadata": {},
   "outputs": [],
   "source": [
    "#Separacion de Variable Objetivo\n",
    "y = data_set['Life expectancy']\n",
    "#Eliminacion de variable objetivo en dataset\n",
    "x = data_set.drop(['Life expectancy'], axis=1)\n",
    "#Eliminacion de columnas no necesarias para el modelo\n",
    "x = x.drop(column_drop, axis=1)\n",
    "#Separacion de datos para generar el modelo y probarlo\n",
    "x_train, x_test, y_train, y_test = train_test_split(x, y, test_size=0.2, random_state=0)"
   ]
  },
  {
   "cell_type": "markdown",
   "id": "1d7fc05d",
   "metadata": {},
   "source": [
    "# Implementacion de Modelo y Pipeline"
   ]
  },
  {
   "cell_type": "code",
   "execution_count": 5,
   "id": "0f3634e4",
   "metadata": {},
   "outputs": [],
   "source": [
    "#Modelo de regresion lineal\n",
    "modelo_regresion = LinearRegression()"
   ]
  },
  {
   "cell_type": "code",
   "execution_count": 6,
   "id": "fbf8a3c3",
   "metadata": {},
   "outputs": [
    {
     "data": {
      "text/plain": [
       "['pipeline.joblib']"
      ]
     },
     "execution_count": 6,
     "metadata": {},
     "output_type": "execute_result"
    }
   ],
   "source": [
    "#Generacion del Pipeline\n",
    "pipeline = Pipeline([\n",
    "    (\"regression\", modelo_regresion)\n",
    "])\n",
    "#Entrenamiento de modelo\n",
    "pipeline.fit(x_train, y_train)\n",
    "#Exportacion del modelo\n",
    "joblib.dump(pipeline, 'pipeline.joblib')"
   ]
  },
  {
   "cell_type": "markdown",
   "id": "2a231846",
   "metadata": {},
   "source": [
    "# Pruebas de Modelo "
   ]
  },
  {
   "cell_type": "code",
   "execution_count": 7,
   "id": "0e99cbb8",
   "metadata": {},
   "outputs": [
    {
     "name": "stdout",
     "output_type": "stream",
     "text": [
      "MSE: 5.88\n",
      "MAE: 3.55\n",
      "R²: 0.66\n"
     ]
    }
   ],
   "source": [
    "#Verificacion de resultados con datos de entrenamiento\n",
    "y_pred = pipeline.predict(x_train)\n",
    "print(\"MSE: %.2f\" % mean_squared_error(y_train, y_pred, squared=False))\n",
    "print(\"MAE: %.2f\" % mean_absolute_error(y_train, y_pred))\n",
    "print('R²: %.2f' % r2_score(y_train, y_pred))"
   ]
  },
  {
   "cell_type": "code",
   "execution_count": 18,
   "id": "881f2325",
   "metadata": {},
   "outputs": [
    {
     "name": "stdout",
     "output_type": "stream",
     "text": [
      "<class 'numpy.ndarray'>\n",
      "MSE: 7.03\n",
      "MAE: 4.02\n",
      "R²: 0.60\n"
     ]
    }
   ],
   "source": [
    "#Verificacion de resultados con datos de prueba\n",
    "y_pred = pipeline.predict(x_test)\n",
    "print(type(y_pred))\n",
    "print(\"MSE: %.2f\" % mean_squared_error(y_test, y_pred, squared=False))\n",
    "print(\"MAE: %.2f\" % mean_absolute_error(y_test, y_pred))\n",
    "print('R²: %.2f' % r2_score(y_test, y_pred))"
   ]
  },
  {
   "cell_type": "code",
   "execution_count": null,
   "id": "06af7c78",
   "metadata": {},
   "outputs": [],
   "source": []
  }
 ],
 "metadata": {
  "kernelspec": {
   "display_name": "Python 3 (ipykernel)",
   "language": "python",
   "name": "python3"
  },
  "language_info": {
   "codemirror_mode": {
    "name": "ipython",
    "version": 3
   },
   "file_extension": ".py",
   "mimetype": "text/x-python",
   "name": "python",
   "nbconvert_exporter": "python",
   "pygments_lexer": "ipython3",
   "version": "3.8.12"
  }
 },
 "nbformat": 4,
 "nbformat_minor": 5
}
